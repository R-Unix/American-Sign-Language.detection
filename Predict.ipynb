{
 "cells": [
  {
   "cell_type": "code",
   "execution_count": null,
   "metadata": {},
   "outputs": [],
   "source": [
    "import tensorflow as tf \n",
    "import numpy as np\n",
    "\n",
    "from tensorflow.keras.models import Sequential\n",
    "from tensorflow.keras.layers import Dense, Dropout, Activation, Flatten\n",
    "from tensorflow.keras.layers import Conv2D, MaxPooling2D\n",
    "#from tensorflow.keras.callbacks import TensorBoard\n",
    "import pickle\n",
    "#import time\n",
    "#from tensorflow.keras.callbacks import ModelCheckpoint \n",
    "import cv2\n",
    "\n",
    "model = tf.keras.models.load_model('/Users/ishan/Downloads/ASL_image_classifier')\n",
    "\n",
    "img = \"/Users/ishan/Desktop/dataset/ASL/alfa_test/Y_test.jpg\"\n",
    "\n",
    "img = cv2.imread(img,cv2.IMREAD_GRAYSCALE)\n",
    "\n",
    "img = img.astype(float)\n",
    "\n",
    "img = cv2.resize(img,(50,50))\n",
    "\n",
    "img = np.reshape(img,(1,50,50,1))\n",
    "\n",
    "pred = model.predict(img)\n",
    "\n",
    "ans = CATEGORIES[np.argmax(pred)]\n",
    "\n",
    "print(ans)\n",
    "'''\n",
    "\n",
    "def Preprocess(img):\n",
    "      img = cv2.imread(img,cv2.IMREAD_GRAYSCALE)\n",
    "\n",
    "      img = cv2.resize(img,(50,50))\n",
    "\n",
    "      img = np.reshape(img,(1,50,50,1))\n",
    "\n",
    "      pred = model.predict(img)\n",
    "\n",
    "      ans = CATEGORIES[np.argmax(pred)]\n",
    "\n",
    "      return ans\n",
    "'''"
   ]
  },
  {
   "cell_type": "code",
   "execution_count": 10,
   "metadata": {},
   "outputs": [
    {
     "name": "stdout",
     "output_type": "stream",
     "text": [
      "Model: \"sequential_1\"\n",
      "_________________________________________________________________\n",
      "Layer (type)                 Output Shape              Param #   \n",
      "=================================================================\n",
      "conv2d_2 (Conv2D)            (None, 48, 48, 64)        640       \n",
      "_________________________________________________________________\n",
      "activation_3 (Activation)    (None, 48, 48, 64)        0         \n",
      "_________________________________________________________________\n",
      "max_pooling2d_2 (MaxPooling2 (None, 24, 24, 64)        0         \n",
      "_________________________________________________________________\n",
      "conv2d_3 (Conv2D)            (None, 22, 22, 64)        36928     \n",
      "_________________________________________________________________\n",
      "activation_4 (Activation)    (None, 22, 22, 64)        0         \n",
      "_________________________________________________________________\n",
      "max_pooling2d_3 (MaxPooling2 (None, 11, 11, 64)        0         \n",
      "_________________________________________________________________\n",
      "flatten_1 (Flatten)          (None, 7744)              0         \n",
      "_________________________________________________________________\n",
      "dense_2 (Dense)              (None, 64)                495680    \n",
      "_________________________________________________________________\n",
      "dense_3 (Dense)              (None, 29)                1885      \n",
      "_________________________________________________________________\n",
      "activation_5 (Activation)    (None, 29)                0         \n",
      "=================================================================\n",
      "Total params: 535,133\n",
      "Trainable params: 535,133\n",
      "Non-trainable params: 0\n",
      "_________________________________________________________________\n"
     ]
    }
   ],
   "source": [
    "\n",
    "model.summary()"
   ]
  },
  {
   "cell_type": "code",
   "execution_count": null,
   "metadata": {},
   "outputs": [],
   "source": []
  }
 ],
 "metadata": {
  "kernelspec": {
   "display_name": "Python 3",
   "language": "python",
   "name": "python3"
  },
  "language_info": {
   "codemirror_mode": {
    "name": "ipython",
    "version": 3
   },
   "file_extension": ".py",
   "mimetype": "text/x-python",
   "name": "python",
   "nbconvert_exporter": "python",
   "pygments_lexer": "ipython3",
   "version": "3.7.4"
  }
 },
 "nbformat": 4,
 "nbformat_minor": 2
}
